{
 "cells": [
  {
   "cell_type": "code",
   "execution_count": 17,
   "metadata": {},
   "outputs": [
    {
     "data": {
      "text/plain": [
       "'f:\\\\Projects\\\\adult_census_income_predicton\\\\ml_project'"
      ]
     },
     "execution_count": 17,
     "metadata": {},
     "output_type": "execute_result"
    }
   ],
   "source": [
    "import os\n",
    "os.chdir(r'f:\\\\Projects\\\\adult_census_income_predicton\\\\ml_project')\n",
    "os.getcwd()"
   ]
  },
  {
   "cell_type": "code",
   "execution_count": 18,
   "metadata": {},
   "outputs": [
    {
     "data": {
      "text/plain": [
       "'f:\\\\Projects\\\\adult_census_income_predicton\\\\ml_project'"
      ]
     },
     "execution_count": 18,
     "metadata": {},
     "output_type": "execute_result"
    }
   ],
   "source": [
    "os.getcwd()"
   ]
  },
  {
   "cell_type": "code",
   "execution_count": 21,
   "metadata": {},
   "outputs": [],
   "source": [
    "import dill\n",
    "def load_object(file_path:str):\n",
    "    \"\"\"\n",
    "    file_path: str\n",
    "    \"\"\"\n",
    "    with open(file_path, \"rb\") as file_obj:\n",
    "        return dill.load(file_obj)"
   ]
  },
  {
   "cell_type": "code",
   "execution_count": 26,
   "metadata": {},
   "outputs": [
    {
     "ename": "ImportError",
     "evalue": "cannot import name 'ml_projectEstimatorModel' from 'ml_project.component.model_trainer' (f:\\Projects\\adult_census_income_predicton\\venv\\lib\\site-packages\\adult_census_income_prediction-0.1-py3.9.egg\\ml_project\\component\\model_trainer.py)",
     "output_type": "error",
     "traceback": [
      "\u001b[1;31m---------------------------------------------------------------------------\u001b[0m",
      "\u001b[1;31mImportError\u001b[0m                               Traceback (most recent call last)",
      "Cell \u001b[1;32mIn[26], line 1\u001b[0m\n\u001b[1;32m----> 1\u001b[0m \u001b[39mfrom\u001b[39;00m \u001b[39mml_project\u001b[39;00m\u001b[39m.\u001b[39;00m\u001b[39mcomponent\u001b[39;00m\u001b[39m.\u001b[39;00m\u001b[39mmodel_trainer\u001b[39;00m \u001b[39mimport\u001b[39;00m ml_projectEstimatorModel\n\u001b[0;32m      2\u001b[0m model \u001b[39m=\u001b[39m load_object(file_path\u001b[39m=\u001b[39m\u001b[39mr\u001b[39m\u001b[39m'\u001b[39m\u001b[39mF:\u001b[39m\u001b[39m\\\u001b[39m\u001b[39mProjects\u001b[39m\u001b[39m\\\u001b[39m\u001b[39madult_census_income_predicton\u001b[39m\u001b[39m\\\u001b[39m\u001b[39msaved_models\u001b[39m\u001b[39m\\\u001b[39m\u001b[39m20221226004256\u001b[39m\u001b[39m\\\u001b[39m\u001b[39mmodel.pkl\u001b[39m\u001b[39m'\u001b[39m)\n",
      "\u001b[1;31mImportError\u001b[0m: cannot import name 'ml_projectEstimatorModel' from 'ml_project.component.model_trainer' (f:\\Projects\\adult_census_income_predicton\\venv\\lib\\site-packages\\adult_census_income_prediction-0.1-py3.9.egg\\ml_project\\component\\model_trainer.py)"
     ]
    }
   ],
   "source": [
    "from ml_project.component.model_trainer import ml_projectEstimatorModel\n",
    "model = load_object(file_path=r'F:\\Projects\\adult_census_income_predicton\\saved_models\\20221226004256\\model.pkl')"
   ]
  },
  {
   "cell_type": "code",
   "execution_count": 8,
   "metadata": {},
   "outputs": [
    {
     "data": {
      "text/plain": [
       "'f:\\\\Projects\\\\adult_census_income_predicton'"
      ]
     },
     "execution_count": 8,
     "metadata": {},
     "output_type": "execute_result"
    }
   ],
   "source": []
  },
  {
   "cell_type": "code",
   "execution_count": null,
   "metadata": {},
   "outputs": [],
   "source": []
  }
 ],
 "metadata": {
  "kernelspec": {
   "display_name": "Python 3",
   "language": "python",
   "name": "python3"
  },
  "language_info": {
   "codemirror_mode": {
    "name": "ipython",
    "version": 3
   },
   "file_extension": ".py",
   "mimetype": "text/x-python",
   "name": "python",
   "nbconvert_exporter": "python",
   "pygments_lexer": "ipython3",
   "version": "3.9.15"
  },
  "orig_nbformat": 4,
  "vscode": {
   "interpreter": {
    "hash": "a55f10e58d08112c6407d1ea0bf49873e8f5b6c4c5b0582dcfea8e2efff41cc9"
   }
  }
 },
 "nbformat": 4,
 "nbformat_minor": 2
}

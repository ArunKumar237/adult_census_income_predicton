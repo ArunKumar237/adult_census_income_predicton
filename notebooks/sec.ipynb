{
 "cells": [
  {
   "cell_type": "code",
   "execution_count": 19,
   "metadata": {},
   "outputs": [],
   "source": [
    "import numpy as np\n",
    "import pandas as pd\n",
    "import warnings\n",
    "warnings.filterwarnings('ignore')\n",
    "\n",
    "from sklearn.model_selection import train_test_split\n",
    "from sklearn import preprocessing\n",
    "from sklearn.preprocessing import StandardScaler\n",
    "from sklearn.decomposition import PCA\n",
    "import seaborn as sns\n",
    "\n"
   ]
  },
  {
   "cell_type": "code",
   "execution_count": 20,
   "metadata": {},
   "outputs": [],
   "source": [
    "df = pd.read_csv('https://raw.githubusercontent.com/ArunKumar237/datasets/main/adult.zip')"
   ]
  },
  {
   "cell_type": "code",
   "execution_count": 21,
   "metadata": {},
   "outputs": [],
   "source": [
    "#replacing '?' with nan\n",
    "df[df == '?'] = np.nan"
   ]
  },
  {
   "cell_type": "code",
   "execution_count": 22,
   "metadata": {},
   "outputs": [],
   "source": [
    "df.drop_duplicates(inplace=True)"
   ]
  },
  {
   "cell_type": "code",
   "execution_count": 23,
   "metadata": {},
   "outputs": [],
   "source": [
    "# filling null values\n",
    "for col in ['workclass', 'occupation', 'country']:\n",
    "    df[col].fillna(df[col].mode()[0], inplace=True)"
   ]
  },
  {
   "cell_type": "code",
   "execution_count": 24,
   "metadata": {},
   "outputs": [],
   "source": [
    "df['salary'] = df['salary'].str.replace('<=50K', '0')\n",
    "df['salary'] = df['salary'].str.replace('>50K', '1')\n",
    "df['salary'] = df['salary'].astype('int')"
   ]
  },
  {
   "cell_type": "code",
   "execution_count": 25,
   "metadata": {},
   "outputs": [
    {
     "data": {
      "text/plain": [
       "<AxesSubplot: xlabel='salary', ylabel='count'>"
      ]
     },
     "execution_count": 25,
     "metadata": {},
     "output_type": "execute_result"
    },
    {
     "data": {
      "image/png": "[encoded data removed]",
      "text/plain": [
       "<Figure size 640x480 with 1 Axes>"
      ]
     },
     "metadata": {},
     "output_type": "display_data"
    }
   ],
   "source": [
    "sns.countplot(x = df['salary'])"
   ]
  },
  {
   "cell_type": "code",
   "execution_count": 26,
   "metadata": {},
   "outputs": [],
   "source": [
    "from sklearn.utils import resample\n",
    "#create two different dataframe of majority and minority class \n",
    "\n",
    "df_majority = df[(df['salary']==0)] \n",
    "df_minority = df[(df['salary']==1)] \n",
    "\n",
    "# upsample minority class\n",
    "df_minority_upsampled = resample(df_minority,\n",
    "                                 replace=True,    # sample with replacement\n",
    "                                 n_samples= df['salary'].value_counts().max(), # to match majority class\n",
    "                                 random_state=42,\n",
    "                                 )  # reproducible results\n",
    "\n",
    "# Combine majority class with upsampled minority class\n",
    "df_upsampled = pd.concat([df_minority_upsampled, df_majority])"
   ]
  },
  {
   "cell_type": "code",
   "execution_count": 27,
   "metadata": {},
   "outputs": [
    {
     "data": {
      "text/plain": [
       "<AxesSubplot: xlabel='salary', ylabel='count'>"
      ]
     },
     "execution_count": 27,
     "metadata": {},
     "output_type": "execute_result"
    },
    {
     "data": {
      "image/png": "[encoded data removed]",
      "text/plain": [
       "<Figure size 640x480 with 1 Axes>"
      ]
     },
     "metadata": {},
     "output_type": "display_data"
    }
   ],
   "source": [
    "sns.countplot(x = df_upsampled['salary'])"
   ]
  },
  {
   "cell_type": "code",
   "execution_count": 28,
   "metadata": {},
   "outputs": [
    {
     "name": "stdout",
     "output_type": "stream",
     "text": [
      "['workclass', 'education', 'marital-status', 'occupation', 'relationship', 'race', 'sex', 'country']\n"
     ]
    }
   ],
   "source": [
    "categorical = []\n",
    "for i in df_upsampled.columns:\n",
    "    if df_upsampled[i].dtype == 'O' and i != 'salary':\n",
    "        categorical.append(i)\n",
    "\n",
    "print(categorical)"
   ]
  },
  {
   "cell_type": "code",
   "execution_count": 29,
   "metadata": {},
   "outputs": [
    {
     "name": "stdout",
     "output_type": "stream",
     "text": [
      "- age\n",
      "- fnlwgt\n",
      "- education-num\n",
      "- capital-gain\n",
      "- capital-loss\n",
      "- hours-per-week\n",
      "- salary\n"
     ]
    }
   ],
   "source": [
    "for i in df_upsampled.columns:\n",
    "    if df_upsampled[i].dtype != 'O':\n",
    "        print('-',i)"
   ]
  },
  {
   "cell_type": "code",
   "execution_count": 30,
   "metadata": {},
   "outputs": [],
   "source": [
    "from sklearn.impute import SimpleImputer\n",
    "impute = SimpleImputer(strategy='most_frequent')\n",
    "\n",
    "data = impute.fit_transform(df_upsampled)\n",
    "data = pd.DataFrame(df_upsampled, columns=impute.feature_names_in_)"
   ]
  },
  {
   "cell_type": "code",
   "execution_count": 31,
   "metadata": {},
   "outputs": [],
   "source": [
    "from sklearn.preprocessing import  OrdinalEncoder\n",
    "binary_enc = OrdinalEncoder()\n",
    "data[categorical] = binary_enc.fit_transform(data[categorical])"
   ]
  },
  {
   "cell_type": "code",
   "execution_count": 32,
   "metadata": {},
   "outputs": [],
   "source": [
    "X = data.drop(['salary'], axis=1)\n",
    "y = data['salary']"
   ]
  },
  {
   "cell_type": "code",
   "execution_count": 33,
   "metadata": {},
   "outputs": [
    {
     "data": {
      "text/html": [
       "<div>\n",
       "<style scoped>\n",
       "    .dataframe tbody tr th:only-of-type {\n",
       "        vertical-align: middle;\n",
       "    }\n",
       "\n",
       "    .dataframe tbody tr th {\n",
       "        vertical-align: top;\n",
       "    }\n",
       "\n",
       "    .dataframe thead th {\n",
       "        text-align: right;\n",
       "    }\n",
       "</style>\n",
       "<table border=\"1\" class=\"dataframe\">\n",
       "  <thead>\n",
       "    <tr style=\"text-align: right;\">\n",
       "      <th></th>\n",
       "      <th>age</th>\n",
       "      <th>workclass</th>\n",
       "      <th>fnlwgt</th>\n",
       "      <th>education</th>\n",
       "      <th>education-num</th>\n",
       "      <th>marital-status</th>\n",
       "      <th>occupation</th>\n",
       "      <th>relationship</th>\n",
       "      <th>race</th>\n",
       "      <th>sex</th>\n",
       "      <th>capital-gain</th>\n",
       "      <th>capital-loss</th>\n",
       "      <th>hours-per-week</th>\n",
       "      <th>country</th>\n",
       "    </tr>\n",
       "  </thead>\n",
       "  <tbody>\n",
       "    <tr>\n",
       "      <th>30325</th>\n",
       "      <td>61</td>\n",
       "      <td>4.0</td>\n",
       "      <td>81132</td>\n",
       "      <td>4.0</td>\n",
       "      <td>3</td>\n",
       "      <td>2.0</td>\n",
       "      <td>6.0</td>\n",
       "      <td>0.0</td>\n",
       "      <td>1.0</td>\n",
       "      <td>1.0</td>\n",
       "      <td>7298</td>\n",
       "      <td>0</td>\n",
       "      <td>40</td>\n",
       "      <td>30.0</td>\n",
       "    </tr>\n",
       "    <tr>\n",
       "      <th>31604</th>\n",
       "      <td>52</td>\n",
       "      <td>4.0</td>\n",
       "      <td>146767</td>\n",
       "      <td>11.0</td>\n",
       "      <td>9</td>\n",
       "      <td>2.0</td>\n",
       "      <td>7.0</td>\n",
       "      <td>0.0</td>\n",
       "      <td>4.0</td>\n",
       "      <td>1.0</td>\n",
       "      <td>0</td>\n",
       "      <td>0</td>\n",
       "      <td>40</td>\n",
       "      <td>39.0</td>\n",
       "    </tr>\n",
       "    <tr>\n",
       "      <th>3466</th>\n",
       "      <td>39</td>\n",
       "      <td>4.0</td>\n",
       "      <td>96452</td>\n",
       "      <td>12.0</td>\n",
       "      <td>14</td>\n",
       "      <td>2.0</td>\n",
       "      <td>4.0</td>\n",
       "      <td>0.0</td>\n",
       "      <td>4.0</td>\n",
       "      <td>1.0</td>\n",
       "      <td>0</td>\n",
       "      <td>0</td>\n",
       "      <td>55</td>\n",
       "      <td>39.0</td>\n",
       "    </tr>\n",
       "    <tr>\n",
       "      <th>22592</th>\n",
       "      <td>48</td>\n",
       "      <td>5.0</td>\n",
       "      <td>382242</td>\n",
       "      <td>10.0</td>\n",
       "      <td>16</td>\n",
       "      <td>2.0</td>\n",
       "      <td>4.0</td>\n",
       "      <td>5.0</td>\n",
       "      <td>4.0</td>\n",
       "      <td>0.0</td>\n",
       "      <td>0</td>\n",
       "      <td>0</td>\n",
       "      <td>40</td>\n",
       "      <td>39.0</td>\n",
       "    </tr>\n",
       "    <tr>\n",
       "      <th>21927</th>\n",
       "      <td>30</td>\n",
       "      <td>4.0</td>\n",
       "      <td>89625</td>\n",
       "      <td>15.0</td>\n",
       "      <td>10</td>\n",
       "      <td>2.0</td>\n",
       "      <td>10.0</td>\n",
       "      <td>5.0</td>\n",
       "      <td>1.0</td>\n",
       "      <td>0.0</td>\n",
       "      <td>0</td>\n",
       "      <td>0</td>\n",
       "      <td>5</td>\n",
       "      <td>39.0</td>\n",
       "    </tr>\n",
       "  </tbody>\n",
       "</table>\n",
       "</div>"
      ],
      "text/plain": [
       "       age  workclass  fnlwgt  education  education-num  marital-status  \\\n",
       "30325   61        4.0   81132        4.0              3             2.0   \n",
       "31604   52        4.0  146767       11.0              9             2.0   \n",
       "3466    39        4.0   96452       12.0             14             2.0   \n",
       "22592   48        5.0  382242       10.0             16             2.0   \n",
       "21927   30        4.0   89625       15.0             10             2.0   \n",
       "\n",
       "       occupation  relationship  race  sex  capital-gain  capital-loss  \\\n",
       "30325         6.0           0.0   1.0  1.0          7298             0   \n",
       "31604         7.0           0.0   4.0  1.0             0             0   \n",
       "3466          4.0           0.0   4.0  1.0             0             0   \n",
       "22592         4.0           5.0   4.0  0.0             0             0   \n",
       "21927        10.0           5.0   1.0  0.0             0             0   \n",
       "\n",
       "       hours-per-week  country  \n",
       "30325              40     30.0  \n",
       "31604              40     39.0  \n",
       "3466               55     39.0  \n",
       "22592              40     39.0  \n",
       "21927               5     39.0  "
      ]
     },
     "execution_count": 33,
     "metadata": {},
     "output_type": "execute_result"
    }
   ],
   "source": [
    "X.head()"
   ]
  },
  {
   "cell_type": "code",
   "execution_count": 47,
   "metadata": {},
   "outputs": [
    {
     "data": {
      "text/plain": [
       "30325    1\n",
       "31604    1\n",
       "3466     1\n",
       "22592    1\n",
       "21927    1\n",
       "Name: salary, dtype: int32"
      ]
     },
     "execution_count": 47,
     "metadata": {},
     "output_type": "execute_result"
    }
   ],
   "source": [
    "y.head()"
   ]
  },
  {
   "cell_type": "code",
   "execution_count": 48,
   "metadata": {},
   "outputs": [],
   "source": [
    "X_train, X_test, y_train, y_test = train_test_split(X, y, test_size = 0.2, random_state = 0, stratify=data['salary'])"
   ]
  },
  {
   "cell_type": "code",
   "execution_count": 49,
   "metadata": {},
   "outputs": [
    {
     "name": "stdout",
     "output_type": "stream",
     "text": [
      "<class 'pandas.core.frame.DataFrame'>\n",
      "Int64Index: 49396 entries, 30325 to 32559\n",
      "Data columns (total 15 columns):\n",
      " #   Column          Non-Null Count  Dtype  \n",
      "---  ------          --------------  -----  \n",
      " 0   age             49396 non-null  int64  \n",
      " 1   workclass       49396 non-null  float64\n",
      " 2   fnlwgt          49396 non-null  int64  \n",
      " 3   education       49396 non-null  float64\n",
      " 4   education-num   49396 non-null  int64  \n",
      " 5   marital-status  49396 non-null  float64\n",
      " 6   occupation      49396 non-null  float64\n",
      " 7   relationship    49396 non-null  float64\n",
      " 8   race            49396 non-null  float64\n",
      " 9   sex             49396 non-null  float64\n",
      " 10  capital-gain    49396 non-null  int64  \n",
      " 11  capital-loss    49396 non-null  int64  \n",
      " 12  hours-per-week  49396 non-null  int64  \n",
      " 13  country         49396 non-null  float64\n",
      " 14  salary          49396 non-null  int32  \n",
      "dtypes: float64(8), int32(1), int64(6)\n",
      "memory usage: 5.8 MB\n"
     ]
    }
   ],
   "source": [
    "data.info()"
   ]
  },
  {
   "cell_type": "code",
   "execution_count": 50,
   "metadata": {},
   "outputs": [],
   "source": [
    "#feature scaling\n",
    "\n",
    "scaler = StandardScaler()\n",
    "\n",
    "X_train = pd.DataFrame(scaler.fit_transform(X_train), columns = X.columns)\n",
    "\n",
    "X_test = pd.DataFrame(scaler.transform(X_test), columns = X.columns)"
   ]
  },
  {
   "cell_type": "code",
   "execution_count": 51,
   "metadata": {},
   "outputs": [
    {
     "data": {
      "text/html": [
       "<div>\n",
       "<style scoped>\n",
       "    .dataframe tbody tr th:only-of-type {\n",
       "        vertical-align: middle;\n",
       "    }\n",
       "\n",
       "    .dataframe tbody tr th {\n",
       "        vertical-align: top;\n",
       "    }\n",
       "\n",
       "    .dataframe thead th {\n",
       "        text-align: right;\n",
       "    }\n",
       "</style>\n",
       "<table border=\"1\" class=\"dataframe\">\n",
       "  <thead>\n",
       "    <tr style=\"text-align: right;\">\n",
       "      <th></th>\n",
       "      <th>age</th>\n",
       "      <th>workclass</th>\n",
       "      <th>fnlwgt</th>\n",
       "      <th>education</th>\n",
       "      <th>education-num</th>\n",
       "      <th>marital-status</th>\n",
       "      <th>occupation</th>\n",
       "      <th>relationship</th>\n",
       "      <th>race</th>\n",
       "      <th>sex</th>\n",
       "      <th>capital-gain</th>\n",
       "      <th>capital-loss</th>\n",
       "      <th>hours-per-week</th>\n",
       "      <th>country</th>\n",
       "    </tr>\n",
       "  </thead>\n",
       "  <tbody>\n",
       "    <tr>\n",
       "      <th>0</th>\n",
       "      <td>0.808781</td>\n",
       "      <td>-1.325160</td>\n",
       "      <td>-0.354189</td>\n",
       "      <td>-0.409727</td>\n",
       "      <td>0.922533</td>\n",
       "      <td>-0.319271</td>\n",
       "      <td>-1.374319</td>\n",
       "      <td>-0.735768</td>\n",
       "      <td>0.366329</td>\n",
       "      <td>0.607175</td>\n",
       "      <td>-0.193738</td>\n",
       "      <td>-0.263223</td>\n",
       "      <td>-0.174683</td>\n",
       "      <td>0.284119</td>\n",
       "    </tr>\n",
       "    <tr>\n",
       "      <th>1</th>\n",
       "      <td>-0.193823</td>\n",
       "      <td>0.058913</td>\n",
       "      <td>-0.770036</td>\n",
       "      <td>0.148547</td>\n",
       "      <td>-0.606419</td>\n",
       "      <td>-0.319271</td>\n",
       "      <td>-0.660134</td>\n",
       "      <td>-0.735768</td>\n",
       "      <td>0.366329</td>\n",
       "      <td>0.607175</td>\n",
       "      <td>-0.193738</td>\n",
       "      <td>-0.263223</td>\n",
       "      <td>-0.174683</td>\n",
       "      <td>0.284119</td>\n",
       "    </tr>\n",
       "    <tr>\n",
       "      <th>2</th>\n",
       "      <td>-0.425193</td>\n",
       "      <td>0.058913</td>\n",
       "      <td>-0.768327</td>\n",
       "      <td>0.148547</td>\n",
       "      <td>-0.606419</td>\n",
       "      <td>1.922298</td>\n",
       "      <td>0.054051</td>\n",
       "      <td>1.703171</td>\n",
       "      <td>0.366329</td>\n",
       "      <td>0.607175</td>\n",
       "      <td>-0.193738</td>\n",
       "      <td>-0.263223</td>\n",
       "      <td>-0.174683</td>\n",
       "      <td>0.284119</td>\n",
       "    </tr>\n",
       "    <tr>\n",
       "      <th>3</th>\n",
       "      <td>0.268917</td>\n",
       "      <td>1.442986</td>\n",
       "      <td>2.003709</td>\n",
       "      <td>0.427684</td>\n",
       "      <td>1.304771</td>\n",
       "      <td>-0.319271</td>\n",
       "      <td>-0.660134</td>\n",
       "      <td>2.312906</td>\n",
       "      <td>0.366329</td>\n",
       "      <td>-1.646971</td>\n",
       "      <td>-0.193738</td>\n",
       "      <td>3.650270</td>\n",
       "      <td>1.476185</td>\n",
       "      <td>0.284119</td>\n",
       "    </tr>\n",
       "    <tr>\n",
       "      <th>4</th>\n",
       "      <td>-0.348070</td>\n",
       "      <td>0.058913</td>\n",
       "      <td>-0.563246</td>\n",
       "      <td>-0.409727</td>\n",
       "      <td>0.922533</td>\n",
       "      <td>-0.319271</td>\n",
       "      <td>0.768236</td>\n",
       "      <td>2.312906</td>\n",
       "      <td>-3.307431</td>\n",
       "      <td>-1.646971</td>\n",
       "      <td>-0.193738</td>\n",
       "      <td>-0.263223</td>\n",
       "      <td>-0.587400</td>\n",
       "      <td>-0.867867</td>\n",
       "    </tr>\n",
       "  </tbody>\n",
       "</table>\n",
       "</div>"
      ],
      "text/plain": [
       "        age  workclass    fnlwgt  education  education-num  marital-status  \\\n",
       "0  0.808781  -1.325160 -0.354189  -0.409727       0.922533       -0.319271   \n",
       "1 -0.193823   0.058913 -0.770036   0.148547      -0.606419       -0.319271   \n",
       "2 -0.425193   0.058913 -0.768327   0.148547      -0.606419        1.922298   \n",
       "3  0.268917   1.442986  2.003709   0.427684       1.304771       -0.319271   \n",
       "4 -0.348070   0.058913 -0.563246  -0.409727       0.922533       -0.319271   \n",
       "\n",
       "   occupation  relationship      race       sex  capital-gain  capital-loss  \\\n",
       "0   -1.374319     -0.735768  0.366329  0.607175     -0.193738     -0.263223   \n",
       "1   -0.660134     -0.735768  0.366329  0.607175     -0.193738     -0.263223   \n",
       "2    0.054051      1.703171  0.366329  0.607175     -0.193738     -0.263223   \n",
       "3   -0.660134      2.312906  0.366329 -1.646971     -0.193738      3.650270   \n",
       "4    0.768236      2.312906 -3.307431 -1.646971     -0.193738     -0.263223   \n",
       "\n",
       "   hours-per-week   country  \n",
       "0       -0.174683  0.284119  \n",
       "1       -0.174683  0.284119  \n",
       "2       -0.174683  0.284119  \n",
       "3        1.476185  0.284119  \n",
       "4       -0.587400 -0.867867  "
      ]
     },
     "execution_count": 51,
     "metadata": {},
     "output_type": "execute_result"
    }
   ],
   "source": [
    "X_train.head()"
   ]
  },
  {
   "cell_type": "code",
   "execution_count": 52,
   "metadata": {},
   "outputs": [
    {
     "data": {
      "text/plain": [
       "array([0.15754188, 0.09527604, 0.08882118, 0.08114097, 0.07524313,\n",
       "       0.07431842, 0.06877189, 0.06553516, 0.06217937, 0.05912504,\n",
       "       0.05606788, 0.04815146, 0.04524917, 0.02257842])"
      ]
     },
     "execution_count": 52,
     "metadata": {},
     "output_type": "execute_result"
    }
   ],
   "source": [
    "#PCA\n",
    "\n",
    "pca = PCA()\n",
    "X_train = pca.fit_transform(X_train)\n",
    "pca.explained_variance_ratio_"
   ]
  },
  {
   "cell_type": "code",
   "execution_count": 53,
   "metadata": {},
   "outputs": [
    {
     "data": {
      "text/plain": [
       "array([0.15754188, 0.09527604, 0.08882118, 0.08114097, 0.07524313,\n",
       "       0.07431842, 0.06877189, 0.06553516, 0.06217937, 0.05912504,\n",
       "       0.05606788, 0.04815146, 0.04524917, 0.02257842])"
      ]
     },
     "execution_count": 53,
     "metadata": {},
     "output_type": "execute_result"
    }
   ],
   "source": [
    "pca.explained_variance_ratio_"
   ]
  },
  {
   "cell_type": "code",
   "execution_count": 54,
   "metadata": {},
   "outputs": [
    {
     "data": {
      "text/plain": [
       "98"
      ]
     },
     "execution_count": 54,
     "metadata": {},
     "output_type": "execute_result"
    }
   ],
   "source": [
    "round(sum(list(pca.explained_variance_ratio_[:13]))*100)"
   ]
  },
  {
   "cell_type": "code",
   "execution_count": 42,
   "metadata": {},
   "outputs": [],
   "source": [
    "from sklearn.ensemble import RandomForestClassifier\n",
    "from sklearn.model_selection import GridSearchCV\n",
    "rf = RandomForestClassifier(max_depth= 10, max_features= 1.0, max_samples= 0.5, n_estimators= 100)"
   ]
  },
  {
   "cell_type": "code",
   "execution_count": 43,
   "metadata": {},
   "outputs": [
    {
     "data": {
      "text/html": [
       "<style>#sk-container-id-1 {color: black;background-color: white;}#sk-container-id-1 pre{padding: 0;}#sk-container-id-1 div.sk-toggleable {background-color: white;}#sk-container-id-1 label.sk-toggleable__label {cursor: pointer;display: block;width: 100%;margin-bottom: 0;padding: 0.3em;box-sizing: border-box;text-align: center;}#sk-container-id-1 label.sk-toggleable__label-arrow:before {content: \"▸\";float: left;margin-right: 0.25em;color: #696969;}#sk-container-id-1 label.sk-toggleable__label-arrow:hover:before {color: black;}#sk-container-id-1 div.sk-estimator:hover label.sk-toggleable__label-arrow:before {color: black;}#sk-container-id-1 div.sk-toggleable__content {max-height: 0;max-width: 0;overflow: hidden;text-align: left;background-color: #f0f8ff;}#sk-container-id-1 div.sk-toggleable__content pre {margin: 0.2em;color: black;border-radius: 0.25em;background-color: #f0f8ff;}#sk-container-id-1 input.sk-toggleable__control:checked~div.sk-toggleable__content {max-height: 200px;max-width: 100%;overflow: auto;}#sk-container-id-1 input.sk-toggleable__control:checked~label.sk-toggleable__label-arrow:before {content: \"▾\";}#sk-container-id-1 div.sk-estimator input.sk-toggleable__control:checked~label.sk-toggleable__label {background-color: #d4ebff;}#sk-container-id-1 div.sk-label input.sk-toggleable__control:checked~label.sk-toggleable__label {background-color: #d4ebff;}#sk-container-id-1 input.sk-hidden--visually {border: 0;clip: rect(1px 1px 1px 1px);clip: rect(1px, 1px, 1px, 1px);height: 1px;margin: -1px;overflow: hidden;padding: 0;position: absolute;width: 1px;}#sk-container-id-1 div.sk-estimator {font-family: monospace;background-color: #f0f8ff;border: 1px dotted black;border-radius: 0.25em;box-sizing: border-box;margin-bottom: 0.5em;}#sk-container-id-1 div.sk-estimator:hover {background-color: #d4ebff;}#sk-container-id-1 div.sk-parallel-item::after {content: \"\";width: 100%;border-bottom: 1px solid gray;flex-grow: 1;}#sk-container-id-1 div.sk-label:hover label.sk-toggleable__label {background-color: #d4ebff;}#sk-container-id-1 div.sk-serial::before {content: \"\";position: absolute;border-left: 1px solid gray;box-sizing: border-box;top: 0;bottom: 0;left: 50%;z-index: 0;}#sk-container-id-1 div.sk-serial {display: flex;flex-direction: column;align-items: center;background-color: white;padding-right: 0.2em;padding-left: 0.2em;position: relative;}#sk-container-id-1 div.sk-item {position: relative;z-index: 1;}#sk-container-id-1 div.sk-parallel {display: flex;align-items: stretch;justify-content: center;background-color: white;position: relative;}#sk-container-id-1 div.sk-item::before, #sk-container-id-1 div.sk-parallel-item::before {content: \"\";position: absolute;border-left: 1px solid gray;box-sizing: border-box;top: 0;bottom: 0;left: 50%;z-index: -1;}#sk-container-id-1 div.sk-parallel-item {display: flex;flex-direction: column;z-index: 1;position: relative;background-color: white;}#sk-container-id-1 div.sk-parallel-item:first-child::after {align-self: flex-end;width: 50%;}#sk-container-id-1 div.sk-parallel-item:last-child::after {align-self: flex-start;width: 50%;}#sk-container-id-1 div.sk-parallel-item:only-child::after {width: 0;}#sk-container-id-1 div.sk-dashed-wrapped {border: 1px dashed gray;margin: 0 0.4em 0.5em 0.4em;box-sizing: border-box;padding-bottom: 0.4em;background-color: white;}#sk-container-id-1 div.sk-label label {font-family: monospace;font-weight: bold;display: inline-block;line-height: 1.2em;}#sk-container-id-1 div.sk-label-container {text-align: center;}#sk-container-id-1 div.sk-container {/* jupyter's `normalize.less` sets `[hidden] { display: none; }` but bootstrap.min.css set `[hidden] { display: none !important; }` so we also need the `!important` here to be able to override the default hidden behavior on the sphinx rendered scikit-learn.org. See: https://github.com/scikit-learn/scikit-learn/issues/21755 */display: inline-block !important;position: relative;}#sk-container-id-1 div.sk-text-repr-fallback {display: none;}</style><div id=\"sk-container-id-1\" class=\"sk-top-container\"><div class=\"sk-text-repr-fallback\"><pre>RandomForestClassifier(max_depth=10, max_features=1.0, max_samples=0.5)</pre><b>In a Jupyter environment, please rerun this cell to show the HTML representation or trust the notebook. <br />On GitHub, the HTML representation is unable to render, please try loading this page with nbviewer.org.</b></div><div class=\"sk-container\" hidden><div class=\"sk-item\"><div class=\"sk-estimator sk-toggleable\"><input class=\"sk-toggleable__control sk-hidden--visually\" id=\"sk-estimator-id-1\" type=\"checkbox\" checked><label for=\"sk-estimator-id-1\" class=\"sk-toggleable__label sk-toggleable__label-arrow\">RandomForestClassifier</label><div class=\"sk-toggleable__content\"><pre>RandomForestClassifier(max_depth=10, max_features=1.0, max_samples=0.5)</pre></div></div></div></div></div>"
      ],
      "text/plain": [
       "RandomForestClassifier(max_depth=10, max_features=1.0, max_samples=0.5)"
      ]
     },
     "execution_count": 43,
     "metadata": {},
     "output_type": "execute_result"
    }
   ],
   "source": [
    "rf.fit(X_train,y_train)"
   ]
  },
  {
   "cell_type": "code",
   "execution_count": 74,
   "metadata": {},
   "outputs": [],
   "source": [
    "y_pred_train = rf.predict(X_train)\n",
    "y_pred_test = rf.predict(X_test)"
   ]
  },
  {
   "cell_type": "code",
   "execution_count": 73,
   "metadata": {},
   "outputs": [
    {
     "name": "stdout",
     "output_type": "stream",
     "text": [
      "              precision    recall  f1-score   support\n",
      "\n",
      "           0       0.94      0.84      0.88     19758\n",
      "           1       0.85      0.94      0.90     19758\n",
      "\n",
      "    accuracy                           0.89     39516\n",
      "   macro avg       0.90      0.89      0.89     39516\n",
      "weighted avg       0.90      0.89      0.89     39516\n",
      "\n"
     ]
    },
    {
     "data": {
      "image/png": "[encoded data removed]",
      "text/plain": [
       "<Figure size 640x480 with 2 Axes>"
      ]
     },
     "metadata": {},
     "output_type": "display_data"
    }
   ],
   "source": [
    "from sklearn.metrics import confusion_matrix, f1_score, accuracy_score\n",
    "cm = confusion_matrix(y_train, y_pred)\n",
    "sns.heatmap(cm, annot=True, fmt='d').set_title('Maternal risks confusion matrix (0 = low risk, 1 = medium risk, 2 = high risk)')\n",
    "\n",
    "print(classification_report(y_train,y_pred))\n"
   ]
  },
  {
   "cell_type": "code",
   "execution_count": 77,
   "metadata": {},
   "outputs": [
    {
     "name": "stdout",
     "output_type": "stream",
     "text": [
      "              precision    recall  f1-score   support\n",
      "\n",
      "           0       0.38      0.54      0.45      4940\n",
      "           1       0.21      0.12      0.16      4940\n",
      "\n",
      "    accuracy                           0.33      9880\n",
      "   macro avg       0.30      0.33      0.30      9880\n",
      "weighted avg       0.30      0.33      0.30      9880\n",
      "\n"
     ]
    },
    {
     "data": {
      "image/png": "[encoded data removed]",
      "text/plain": [
       "<Figure size 640x480 with 2 Axes>"
      ]
     },
     "metadata": {},
     "output_type": "display_data"
    }
   ],
   "source": [
    "cm = confusion_matrix(y_test, y_testp)\n",
    "sns.heatmap(cm, annot=True, fmt='d').set_title('Maternal risks confusion matrix (0 = low risk, 1 = medium risk, 2 = high risk)')\n",
    "\n",
    "print(classification_report(y_test,y_pred_test))"
   ]
  },
  {
   "cell_type": "code",
   "execution_count": 78,
   "metadata": {},
   "outputs": [
    {
     "data": {
      "text/plain": [
       "0.8905373016553293"
      ]
     },
     "execution_count": 78,
     "metadata": {},
     "output_type": "execute_result"
    }
   ],
   "source": [
    "f1_score(y_pred=y_pred_train, y_true=y_train, average='weighted')"
   ]
  },
  {
   "cell_type": "code",
   "execution_count": 79,
   "metadata": {},
   "outputs": [
    {
     "data": {
      "text/plain": [
       "0.3034574577997335"
      ]
     },
     "execution_count": 79,
     "metadata": {},
     "output_type": "execute_result"
    }
   ],
   "source": [
    "f1_score(y_pred=y_pred_test, y_true=y_test, average='weighted')"
   ]
  },
  {
   "cell_type": "code",
   "execution_count": 81,
   "metadata": {},
   "outputs": [
    {
     "data": {
      "text/plain": [
       "0.8908290312784695"
      ]
     },
     "execution_count": 81,
     "metadata": {},
     "output_type": "execute_result"
    }
   ],
   "source": [
    "accuracy_score(y_pred=y_pred_train, y_true=y_train)"
   ]
  },
  {
   "cell_type": "code",
   "execution_count": 83,
   "metadata": {},
   "outputs": [
    {
     "data": {
      "text/plain": [
       "0.33421052631578946"
      ]
     },
     "execution_count": 83,
     "metadata": {},
     "output_type": "execute_result"
    }
   ],
   "source": [
    "accuracy_score(y_pred=y_pred_test, y_true=y_test)"
   ]
  },
  {
   "cell_type": "code",
   "execution_count": 84,
   "metadata": {},
   "outputs": [
    {
     "data": {
      "text/plain": [
       "0.61"
      ]
     },
     "execution_count": 84,
     "metadata": {},
     "output_type": "execute_result"
    }
   ],
   "source": [
    "(89+33)/200"
   ]
  },
  {
   "cell_type": "code",
   "execution_count": 86,
   "metadata": {},
   "outputs": [],
   "source": [
    "model_accuracy = (2 * (89 * 33)) / (89 + 33)\n",
    "diff_test_train_acc = abs(33 - 89)"
   ]
  },
  {
   "cell_type": "code",
   "execution_count": 87,
   "metadata": {},
   "outputs": [
    {
     "data": {
      "text/plain": [
       "48.14754098360656"
      ]
     },
     "execution_count": 87,
     "metadata": {},
     "output_type": "execute_result"
    }
   ],
   "source": [
    "model_accuracy"
   ]
  },
  {
   "cell_type": "code",
   "execution_count": 88,
   "metadata": {},
   "outputs": [
    {
     "data": {
      "text/plain": [
       "56"
      ]
     },
     "execution_count": 88,
     "metadata": {},
     "output_type": "execute_result"
    }
   ],
   "source": [
    "diff_test_train_acc"
   ]
  },
  {
   "cell_type": "code",
   "execution_count": null,
   "metadata": {},
   "outputs": [],
   "source": []
  }
 ],
 "metadata": {
  "kernelspec": {
   "display_name": "Python 3",
   "language": "python",
   "name": "python3"
  },
  "language_info": {
   "codemirror_mode": {
    "name": "ipython",
    "version": 3
   },
   "file_extension": ".py",
   "mimetype": "text/x-python",
   "name": "python",
   "nbconvert_exporter": "python",
   "pygments_lexer": "ipython3",
   "version": "3.9.15"
  },
  "orig_nbformat": 4,
  "vscode": {
   "interpreter": {
    "hash": "a55f10e58d08112c6407d1ea0bf49873e8f5b6c4c5b0582dcfea8e2efff41cc9"
   }
  }
 },
 "nbformat": 4,
 "nbformat_minor": 2
}
